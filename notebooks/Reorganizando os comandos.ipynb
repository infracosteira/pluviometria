{
 "cells": [
  {
   "cell_type": "code",
   "execution_count": 42,
   "id": "f8bcfcdc-a349-487b-9edf-f830bfde23fa",
   "metadata": {},
   "outputs": [
    {
     "name": "stdout",
     "output_type": "stream",
     "text": [
      "\n",
      "Lendo dados das estações pluviometricas...\n"
     ]
    }
   ],
   "source": [
    "import zipfile as zipfile\n",
    "import pandas as pd\n",
    "import datetime as dt\n",
    "import os\n",
    "import unicodedata\n",
    "import json\n",
    "\n",
    "print(\"\\nLendo dados das estações pluviometricas...\")\n",
    "\n",
    "for_concat = []\n",
    "with zipfile.ZipFile('../data/postos.zip', 'r') as t:\n",
    "    for arq in t.namelist():\n",
    "        if arq.endswith('.txt'):\n",
    "            with t.open(arq) as f:\n",
    "                df = pd.read_csv(f, delimiter=';')\n",
    "                # Extrair o ID do nome do arquivo e adicionar como uma nova coluna\n",
    "                df['id'] = arq.split('.')[0]\n",
    "                for_concat.append(df)\n",
    "\n",
    "# Exclude empty or all-NA entries before concatenation\n",
    "for_concat = [\n",
    "    df for df in for_concat if not df.empty and not df.isna().all().all()\n",
    "]\n",
    "\n",
    "registros_chuvas = pd.concat(for_concat)\n",
    "registros_chuvas.fillna(0, inplace=True)\n",
    "registros_chuvas.reset_index(drop=True, inplace=True)\n",
    "\n",
    "# Reordenar as colunas para que 'id' seja a primeira\n",
    "cols = ['id'] + [col for col in registros_chuvas.columns if col != 'id']\n",
    "registros_chuvas = registros_chuvas[cols]"
   ]
  },
  {
   "cell_type": "code",
   "execution_count": 43,
   "id": "f1d8892f-9aed-45f8-a807-fc5116dbc06f",
   "metadata": {},
   "outputs": [
    {
     "name": "stdout",
     "output_type": "stream",
     "text": [
      "\n",
      "Filtrando anos completos...\n"
     ]
    }
   ],
   "source": [
    "print(\"\\nFiltrando anos completos...\")\n",
    "\n",
    "#pegar apenas os anos completos\n",
    "registros_chuvas['Anos'] = registros_chuvas['Anos'].astype(int)\n",
    "registros_chuvas['Meses'] = registros_chuvas['Meses'].astype(int)\n",
    "ano = dt.datetime.now().year\n",
    "Anos_completos = registros_chuvas\n",
    "Anos_completos = Anos_completos.loc[Anos_completos['Anos'] < ano]"
   ]
  },
  {
   "cell_type": "code",
   "execution_count": 44,
   "id": "6fbfa536-53b4-4d1e-8424-55aca3716ed7",
   "metadata": {},
   "outputs": [
    {
     "name": "stdout",
     "output_type": "stream",
     "text": [
      "\n",
      "Verificando o primeiro e o ultimo ano de registro de cada posto...\n"
     ]
    }
   ],
   "source": [
    "print(\"\\nVerificando o primeiro e o ultimo ano de registro de cada posto...\")\n",
    "\n",
    "# Verificar qual o primeiro ano de registro e o ultimo ano de registro de cada posto\n",
    "primeiro_e_ultimo_ano = Anos_completos.groupby('id')['Anos'].agg(['min', 'max'])\n",
    "primeiro_e_ultimo_ano.columns = ['Ano_inicial', 'Ano_final']\n",
    "Anos_completos = Anos_completos.merge(primeiro_e_ultimo_ano, on='id')\n"
   ]
  },
  {
   "cell_type": "code",
   "execution_count": 45,
   "id": "bfe1aeee-ae6e-4150-8abb-52eaffc709ca",
   "metadata": {},
   "outputs": [],
   "source": [
    "# Encontrar qual foi o primeiro mês registrado para cada posto no ano inicial\n",
    "ano_inicial_df = Anos_completos[Anos_completos['Anos'] == Anos_completos['Ano_inicial']]\n",
    "primeiro_mes_ano_inicial = ano_inicial_df.groupby('id')['Meses'].min().reset_index()\n",
    "primeiro_mes_ano_inicial.rename(columns={'Meses': 'Primeiro_mes'}, inplace=True)\n",
    "Anos_completos = Anos_completos.merge(primeiro_mes_ano_inicial, on='id', how='left')\n",
    "\n",
    "# Encontrar qual foi o último mês registrado para cada posto no ano final\n",
    "ano_final_df = Anos_completos[Anos_completos['Anos'] == Anos_completos['Ano_final']]\n",
    "ultimo_mes_ano_final = ano_final_df.groupby('id')['Meses'].max().reset_index()\n",
    "ultimo_mes_ano_final.rename(columns={'Meses': 'Ultimo_mes'}, inplace=True)\n"
   ]
  },
  {
   "cell_type": "code",
   "execution_count": 46,
   "id": "f15b32e2-2c55-4acb-95d4-22a4372b9083",
   "metadata": {
    "scrolled": true
   },
   "outputs": [],
   "source": [
    "from datetime import datetime\n",
    "import pandas as pd\n",
    "import calendar\n",
    "\n",
    "def dias_do_mes(ano, mes):\n",
    "    \"\"\"Retorna o número correto de dias em um mês, considerando anos bissextos.\"\"\"\n",
    "    return calendar.monthrange(ano, mes)[1]\n",
    "\n",
    "def preencher_anos_faltantes(df):\n",
    "    postos_unicos = df[['id', 'Postos', 'Municipios']].drop_duplicates()\n",
    "    anos_faltantes = []\n",
    "    ano_atual = datetime.now().year\n",
    "\n",
    "    for _, row in postos_unicos.iterrows():\n",
    "        posto_id = row['id']\n",
    "        posto = row['Postos']\n",
    "        municipio = row['Municipios']\n",
    "\n",
    "        df_posto = df[(df['id'] == posto_id) & (df['Postos'] == posto) & (df['Municipios'] == municipio)]\n",
    "\n",
    "        if df_posto['Anos'].notna().any():\n",
    "            ano_inicial = int(df_posto['Anos'].min())\n",
    "        else:\n",
    "            print(f\"Aviso: Nenhum ano encontrado para o posto ID {posto_id} - {posto}, município {municipio}. Preenchendo com {ano_atual}.\")\n",
    "            ano_inicial = ano_atual\n",
    "\n",
    "        anos_completos = set(range(ano_inicial, ano_atual))\n",
    "        anos_registrados = set(df_posto['Anos'].dropna().unique())\n",
    "        anos_faltantes_posto = anos_completos - anos_registrados\n",
    "\n",
    "        for ano in anos_faltantes_posto:\n",
    "            for mes in range(1, 13):\n",
    "                dias_no_mes = dias_do_mes(ano, mes)\n",
    "                falha = {\n",
    "                    'id': posto_id,\n",
    "                    'Municipios': municipio,\n",
    "                    'Postos': posto,\n",
    "                    'Latitude': df_posto['Latitude'].iloc[0] if not df_posto.empty else 999.0,\n",
    "                    'Longitude': df_posto['Longitude'].iloc[0] if not df_posto.empty else 999.0,\n",
    "                    'Anos': ano,\n",
    "                    'Meses': mes,\n",
    "                    'Total': 999.0,\n",
    "                    **{f'Dia{i}': 999.0 if i <= dias_no_mes else 888.0 for i in range(1, 32)}\n",
    "                }\n",
    "                anos_faltantes.append(falha)\n",
    "\n",
    "    df_faltantes = pd.DataFrame(anos_faltantes)\n",
    "    df = pd.concat([df, df_faltantes], ignore_index=True)\n",
    "    df.sort_values(by=['id', 'Postos', 'Municipios', 'Anos', 'Meses'], inplace=True)\n",
    "    df.reset_index(drop=True, inplace=True)\n",
    "    return df\n",
    "\n",
    "def preencher_meses_faltantes(df):\n",
    "    postos_unicos = df[['id', 'Postos', 'Municipios']].drop_duplicates()\n",
    "    meses_faltantes = []\n",
    "\n",
    "    for _, row in postos_unicos.iterrows():\n",
    "        posto_id = row['id']\n",
    "        posto = row['Postos']\n",
    "        municipio = row['Municipios']\n",
    "\n",
    "        df_posto = df[(df['id'] == posto_id) & (df['Postos'] == posto) & (df['Municipios'] == municipio)]\n",
    "        anos_registrados = df_posto['Anos'].dropna().unique()\n",
    "\n",
    "        for ano in anos_registrados:\n",
    "            df_ano = df_posto[df_posto['Anos'] == ano]\n",
    "            meses_registrados = set(df_ano['Meses'].dropna().unique())\n",
    "            meses_completos = set(range(1, 13))\n",
    "            meses_faltantes_ano = meses_completos - meses_registrados\n",
    "\n",
    "            for mes in meses_faltantes_ano:\n",
    "                dias_no_mes = dias_do_mes(ano, mes)\n",
    "                falha = {\n",
    "                    'id': posto_id,\n",
    "                    'Municipios': municipio,\n",
    "                    'Postos': posto,\n",
    "                    'Latitude': df_posto['Latitude'].iloc[0] if not df_posto.empty else 999.0,\n",
    "                    'Longitude': df_posto['Longitude'].iloc[0] if not df_posto.empty else 999.0,\n",
    "                    'Anos': ano,\n",
    "                    'Meses': mes,\n",
    "                    'Total': 999.0,\n",
    "                    **{f'Dia{i}': 999.0 if i <= dias_no_mes else 888.0 for i in range(1, 32)}\n",
    "                }\n",
    "                meses_faltantes.append(falha)\n",
    "\n",
    "    df_faltantes = pd.DataFrame(meses_faltantes)\n",
    "    df = pd.concat([df, df_faltantes], ignore_index=True)\n",
    "    df.sort_values(by=['id', 'Postos', 'Municipios', 'Anos', 'Meses'], inplace=True)\n",
    "    df.reset_index(drop=True, inplace=True)\n",
    "    return df\n",
    "\n",
    "# Executar as funções\n",
    "Anos_completos = preencher_anos_faltantes(Anos_completos)\n",
    "Anos_completos = preencher_meses_faltantes(Anos_completos)\n"
   ]
  },
  {
   "cell_type": "code",
   "execution_count": 47,
   "id": "4295ccaf",
   "metadata": {},
   "outputs": [
    {
     "name": "stdout",
     "output_type": "stream",
     "text": [
      "\n",
      "Arquivos CSV gerados para cada posto na pasta 'postos_solo'.\n"
     ]
    }
   ],
   "source": [
    "# Converter colunas numéricas de string para float\n",
    "numeric_cols = ['Total'] + [f'Dia{i}' for i in range(1, 32)]\n",
    "for col in numeric_cols:\n",
    "    Anos_completos[col] = Anos_completos[col].astype(str).str.replace(',', '.').astype(float)\n",
    "\n",
    "output_dir = \"../data/postos_solo\"\n",
    "os.makedirs(output_dir, exist_ok=True)\n",
    "\n",
    "def remover_acentos(texto):\n",
    "    return ''.join(c for c in unicodedata.normalize('NFD', texto) if unicodedata.category(c) != 'Mn')\n",
    "\n",
    "for posto_id in Anos_completos['id'].unique():\n",
    "    registros_posto = Anos_completos[Anos_completos['id'] == posto_id]\n",
    "    nome_posto = registros_posto['Postos'].iloc[0].replace(' ', '_')\n",
    "    nome_posto = remover_acentos(nome_posto)  # Remover acentos\n",
    "    nome_arquivo = os.path.join(output_dir, f\"{posto_id}_{nome_posto}.csv\")\n",
    "    registros_posto.to_csv(nome_arquivo, index=False, decimal=',')\n",
    "\n",
    "print(\"\\nArquivos CSV gerados para cada posto na pasta 'postos_solo'.\")"
   ]
  },
  {
   "cell_type": "code",
   "execution_count": 48,
   "id": "01bcc81d-bb22-4da7-8a19-5378f533d205",
   "metadata": {},
   "outputs": [
    {
     "name": "stdout",
     "output_type": "stream",
     "text": [
      "\n",
      "Repreenchendo os novos registros com os meses e anos de primeiro registro\n"
     ]
    }
   ],
   "source": [
    "print(\"\\nRepreenchendo os novos registros com os meses e anos de primeiro registro\")\n",
    "\n",
    "primeiro_e_ultimo_ano = Anos_completos.groupby('id')['Anos'].agg(['min', 'max'])\n",
    "primeiro_e_ultimo_ano.columns = ['Ano_inicial', 'Ano_final']\n",
    "Anos_completos = Anos_completos.merge(primeiro_e_ultimo_ano, on='id')\n",
    "\n",
    "# Check if the columns exist before attempting to drop them\n",
    "if 'Ano_inicial_x' in Anos_completos.columns and 'Ano_final_x' in Anos_completos.columns:\n",
    "    Anos_completos.drop(columns=['Ano_inicial_x', 'Ano_final_x'], inplace=True)\n",
    "\n",
    "Anos_completos = Anos_completos.merge(primeiro_mes_ano_inicial, on='id', how='left')\n",
    "Anos_completos = Anos_completos.merge(ultimo_mes_ano_final, on='id', how='left')\n",
    "\n",
    "# Check if the column exists before attempting to drop it\n",
    "if 'Primeiro_mes_x' in Anos_completos.columns:\n",
    "    Anos_completos.drop(columns=['Primeiro_mes_x'], inplace=True)\n",
    "\n",
    "Anos_completos.rename(columns={\n",
    "    'Ano_inicial_y': 'Ano_inicial',\n",
    "    'Ano_final_y': 'Ano_final',\n",
    "    'Primeiro_mes_y': 'Primeiro_mes'\n",
    "}, inplace=True)\n"
   ]
  },
  {
   "cell_type": "code",
   "execution_count": 49,
   "id": "ff779014",
   "metadata": {},
   "outputs": [
    {
     "name": "stdout",
     "output_type": "stream",
     "text": [
      "\n",
      "Verificando quantos meses de falha existem parada cada posto\n"
     ]
    }
   ],
   "source": [
    "print(\"\\nVerificando quantos meses de falha existem parada cada posto\")\n",
    "\n",
    "df_sem_extras = Anos_completos.drop(\n",
    "    columns=['Primeiro_mes', 'Ultimo_mes', 'Ano_inicial', 'Ano_final'])\n",
    "\n",
    "# Substituir os valores 888.0 por NaN e depois remover essas colunas\n",
    "df_sem_extras.replace(888.0, pd.NA, inplace=True)\n",
    "df_sem_extras.dropna(axis=1, how='all', inplace=True)\n"
   ]
  },
  {
   "cell_type": "code",
   "execution_count": 50,
   "id": "8708f895-4d28-4256-9c66-4b142dd22e1a",
   "metadata": {},
   "outputs": [
    {
     "name": "stdout",
     "output_type": "stream",
     "text": [
      "\n",
      "Verificando quantos meses de falha existem para cada posto\n"
     ]
    }
   ],
   "source": [
    "print(\"\\nVerificando quantos meses de falha existem para cada posto\")\n",
    "dias_cols = [f'Dia{i}' for i in range(1, 32)]\n",
    "\n",
    "def verificar_meses_falha(df):\n",
    "    df['Mes_falha'] = df[dias_cols].apply(lambda row: any(day == 999.0 for day in row), axis=1)\n",
    "    meses_falha_por_posto = df.groupby('id')['Mes_falha'].sum()\n",
    "    return meses_falha_por_posto\n",
    "\n",
    "meses_falha_por_posto = verificar_meses_falha(Anos_completos)\n",
    "Anos_completos = Anos_completos.merge(meses_falha_por_posto.rename('Meses_de_Falha'), on='id', how='left')\n",
    "Anos_completos = Anos_completos.drop(columns=['Mes_falha'])\n"
   ]
  },
  {
   "cell_type": "code",
   "execution_count": 51,
   "id": "4788df56-ca3b-4395-abb1-d5d070337a10",
   "metadata": {},
   "outputs": [
    {
     "name": "stdout",
     "output_type": "stream",
     "text": [
      "\n",
      "Calculando intervalo de dias, meses e anos totais de falhas por posto...\n"
     ]
    }
   ],
   "source": [
    "print(\n",
    "    \"\\nCalculando intervalo de dias, meses e anos totais de falhas por posto...\"\n",
    ")\n",
    "\n",
    "from datetime import datetime\n",
    "\n",
    "def calcular_intervalo_dias(row):\n",
    "    ano_inicial = int(row['Ano_inicial'])\n",
    "    ano_final = dt.datetime.now().year  # Considerar o último ano completo\n",
    "    intervalo = (ano_final - ano_inicial) * 365\n",
    "\n",
    "    # Adicionar 1 dia para cada ano bissexto no intervalo\n",
    "    for year in range(ano_inicial, ano_final + 1):\n",
    "        if (year % 4 == 0 and year % 100 != 0) or (year % 400 == 0):\n",
    "            intervalo += 1\n",
    "\n",
    "    return intervalo\n",
    "\n",
    "def contar_dias_falha(row):\n",
    "    return sum(row[dia] == 999.0 for dia in dias_cols if dia != 'Total')\n",
    "\n",
    "Anos_completos['Ano_inicial'] = Anos_completos['Ano_inicial'].astype(int)\n",
    "Anos_completos['Ano_final'] = Anos_completos['Ano_final'].astype(int)\n",
    "\n",
    "Anos_completos['Intervalo_dias'] = Anos_completos.apply(calcular_intervalo_dias, axis=1)\n",
    "Anos_completos['Dias_de_Falha'] = Anos_completos.apply(contar_dias_falha, axis=1)\n",
    "\n",
    "total_falhas_por_posto = Anos_completos.groupby('id')['Dias_de_Falha'].sum().reset_index()\n",
    "total_falhas_por_posto.rename(columns={'Dias_de_Falha': 'Total_Falhas'}, inplace=True)\n",
    "\n",
    "Anos_completos = Anos_completos.merge(total_falhas_por_posto, on='id', how='left')\n",
    "Anos_completos['Intervalo_anos'] = (Anos_completos['Ano_final'].astype(int) - Anos_completos['Ano_inicial'].astype(int)) + 1\n",
    "Anos_completos['Intervalo_meses'] = Anos_completos['Intervalo_anos'] * 12\n",
    "\n",
    "Anos_completos.drop(columns=['Dias_de_Falha'], inplace=True)\n",
    "Anos_completos['dias_medidos'] = Anos_completos['Intervalo_dias'] - Anos_completos['Total_Falhas']\n"
   ]
  },
  {
   "cell_type": "code",
   "execution_count": 55,
   "id": "2c7adeea-d814-4ba8-bb46-df3473c364c1",
   "metadata": {
    "scrolled": true
   },
   "outputs": [
    {
     "name": "stdout",
     "output_type": "stream",
     "text": [
      "\n",
      "Calculando a porcentagem de dias de falhas por posto...\n"
     ]
    }
   ],
   "source": [
    "print(\"\\nCalculando a porcentagem de dias de falhas por posto...\")\n",
    "\n",
    "Anos_completos['Porcentagem_dias_Falhas'] = (\n",
    "    Anos_completos['Total_Falhas'] / Anos_completos['Intervalo_dias']) * 100\n",
    "Anos_completos['Porcentagem_dias_Falhas'] = Anos_completos[\n",
    "    'Porcentagem_dias_Falhas'].round(2)"
   ]
  },
  {
   "cell_type": "code",
   "execution_count": 56,
   "id": "a854f833-4ddf-42f1-80bb-10e533202f99",
   "metadata": {},
   "outputs": [
    {
     "name": "stdout",
     "output_type": "stream",
     "text": [
      "\n",
      "Verificando anos de falha por posto...\n"
     ]
    }
   ],
   "source": [
    "print(\"\\nVerificando anos de falha por posto...\")\n",
    "\n",
    "# Verificar quantos anos com falha tiveram no intervalo por posto\n",
    "def contar_anos_falha(df):\n",
    "    df['Ano_com_falha'] = df[dias_cols].apply(lambda row: any(day == 999.0 for day in row), axis=1)\n",
    "    anos_falha = df.groupby(['id', 'Anos'])['Ano_com_falha'].any().reset_index()\n",
    "    anos_falha_por_posto = anos_falha.groupby('id')['Ano_com_falha'].sum().reset_index()\n",
    "    anos_falha_por_posto.rename(columns={'Ano_com_falha': 'Anos_de_Falha'}, inplace=True)\n",
    "    return anos_falha_por_posto\n",
    "\n",
    "anos_falha_por_posto = contar_anos_falha(Anos_completos)\n",
    "Anos_completos = Anos_completos.merge(anos_falha_por_posto, on='id', how='left')\n",
    "Anos_completos.drop(columns=['Ano_com_falha'], inplace=True)\n"
   ]
  },
  {
   "cell_type": "code",
   "execution_count": 57,
   "id": "ec99a7f2-4669-45eb-993f-44f5ca1c6504",
   "metadata": {
    "scrolled": true
   },
   "outputs": [
    {
     "name": "stdout",
     "output_type": "stream",
     "text": [
      "\n",
      "Calculando anos completos medidos por posto...\n"
     ]
    }
   ],
   "source": [
    "print(\"\\nCalculando anos completos medidos por posto...\")\n",
    "\n",
    "# Agrupar por id para garantir que os dados são do mesmo posto\n",
    "Anos_completos['Anos_completos_medidos'] = Anos_completos.groupby('id')['Intervalo_anos'].transform('first') - Anos_completos.groupby('id')['Anos_de_Falha'].transform('first')\n",
    "\n",
    "Anos_completos['Porcentagem_anos_Falhas'] = (\n",
    "    Anos_completos['Anos_de_Falha'] / Anos_completos['Intervalo_anos']) * 100\n",
    "Anos_completos['Porcentagem_anos_Falhas'] = Anos_completos[\n",
    "    'Porcentagem_anos_Falhas'].round(2)\n"
   ]
  },
  {
   "cell_type": "code",
   "execution_count": 58,
   "id": "e40111eb-d6a6-45b9-8a26-3b88c5d1a392",
   "metadata": {},
   "outputs": [
    {
     "name": "stdout",
     "output_type": "stream",
     "text": [
      "\n",
      "Calculando a média mensal de chuvas por posto...\n"
     ]
    }
   ],
   "source": [
    "print(\"\\nCalculando a média mensal de chuvas por posto...\")\n",
    "\n",
    "def dados_validos(df):\n",
    "    # Verificar se todos os dias do mês não são 999.0\n",
    "    df['Mes_valido'] = df[dias_cols].apply(lambda row: all(day != 999.0 for day in row), axis=1)\n",
    "    \n",
    "    # Filtrar apenas os meses válidos\n",
    "    df_validos = df[df['Mes_valido']].copy()\n",
    "    \n",
    "    # Remover a coluna auxiliar 'Mes_valido'\n",
    "    df_validos.drop(columns=['Mes_valido'], inplace=True)\n",
    "    \n",
    "    return df_validos\n",
    "\n",
    "df_dados_validos = dados_validos(Anos_completos)\n",
    "\n",
    "# Calcular a média mensal de chuvas por posto\n",
    "ids_unicos = df_dados_validos['id'].unique()\n",
    "\n",
    "medias_mensais = []\n",
    "\n",
    "for posto_id in ids_unicos:\n",
    "    df_posto = df_dados_validos[df_dados_validos['id'] == posto_id]\n",
    "    \n",
    "    # Inicializar variáveis para somar os totais e contadores para cada mês\n",
    "    jan_total = fev_total = mar_total = apr_total = may_total = jun_total = 0\n",
    "    jul_total = aug_total = sep_total = oct_total = nov_total = dec_total = 0\n",
    "    \n",
    "    jan_count = fev_count = mar_count = apr_count = may_count = jun_count = 0\n",
    "    jul_count = aug_count = sep_count = oct_count = nov_count = dec_count = 0\n",
    "    \n",
    "    for _, row in df_posto.iterrows():\n",
    "        if row['Meses'] == 1:\n",
    "            jan_total += row['Total']\n",
    "            jan_count += 1\n",
    "        elif row['Meses'] == 2:\n",
    "            fev_total += row['Total']\n",
    "            fev_count += 1\n",
    "        elif row['Meses'] == 3:\n",
    "            mar_total += row['Total']\n",
    "            mar_count += 1\n",
    "        elif row['Meses'] == 4:\n",
    "            apr_total += row['Total']\n",
    "            apr_count += 1\n",
    "        elif row['Meses'] == 5:\n",
    "            may_total += row['Total']\n",
    "            may_count += 1\n",
    "        elif row['Meses'] == 6:\n",
    "            jun_total += row['Total']\n",
    "            jun_count += 1\n",
    "        elif row['Meses'] == 7:\n",
    "            jul_total += row['Total']\n",
    "            jul_count += 1\n",
    "        elif row['Meses'] == 8:\n",
    "            aug_total += row['Total']\n",
    "            aug_count += 1\n",
    "        elif row['Meses'] == 9:\n",
    "            sep_total += row['Total']\n",
    "            sep_count += 1\n",
    "        elif row['Meses'] == 10:\n",
    "            oct_total += row['Total']\n",
    "            oct_count += 1\n",
    "        elif row['Meses'] == 11:\n",
    "            nov_total += row['Total']\n",
    "            nov_count += 1\n",
    "        elif row['Meses'] == 12:\n",
    "            dec_total += row['Total']\n",
    "            dec_count += 1\n",
    "    \n",
    "    medias_mensais.append({\n",
    "        'id': posto_id,\n",
    "        'Media_Jan': jan_total / jan_count if jan_count else 999,\n",
    "        'Media_Fev': fev_total / fev_count if fev_count else 999,\n",
    "        'Media_Mar': mar_total / mar_count if mar_count else 999,\n",
    "        'Media_Apr': apr_total / apr_count if apr_count else 999,\n",
    "        'Media_May': may_total / may_count if may_count else 999,\n",
    "        'Media_Jun': jun_total / jun_count if jun_count else 999,\n",
    "        'Media_Jul': jul_total / jul_count if jul_count else 999,\n",
    "        'Media_Aug': aug_total / aug_count if aug_count else 999,\n",
    "        'Media_Sep': sep_total / sep_count if sep_count else 999,\n",
    "        'Media_Oct': oct_total / oct_count if oct_count else 999,\n",
    "        'Media_Nov': nov_total / nov_count if nov_count else 999,\n",
    "        'Media_Dec': dec_total / dec_count if dec_count else 999\n",
    "    })\n",
    "\n",
    "df_medias_mensais = pd.DataFrame(medias_mensais)\n",
    "Anos_completos = Anos_completos.merge(df_medias_mensais, on='id', how='left')\n",
    "# Preencher médias vazias com 999\n",
    "\n",
    "medias_cols = ['Media_Jan', 'Media_Fev', 'Media_Mar', 'Media_Apr', 'Media_May', 'Media_Jun', 'Media_Jul', 'Media_Aug', 'Media_Sep', 'Media_Oct', 'Media_Nov', 'Media_Dec']\n",
    "Anos_completos[medias_cols] = Anos_completos[medias_cols].fillna(999)\n"
   ]
  },
  {
   "cell_type": "code",
   "execution_count": 59,
   "id": "fb20ace9-05b0-4ce6-b53c-e460548588ed",
   "metadata": {
    "scrolled": true
   },
   "outputs": [
    {
     "name": "stdout",
     "output_type": "stream",
     "text": [
      "\n",
      "Calculando a média anual de chuvas por posto...\n"
     ]
    }
   ],
   "source": [
    "print(\"\\nCalculando a média anual de chuvas por posto...\")\n",
    "\n",
    "postos_unicos = Anos_completos['id'].unique()\n",
    "\n",
    "Anos_completos['Media_Anual'] = 0.0\n",
    "\n",
    "for posto_id in postos_unicos:\n",
    "    df_posto = Anos_completos[Anos_completos['id'] == posto_id]\n",
    "    intervalo_anos = df_posto['Intervalo_anos'].iloc[0]\n",
    "\n",
    "    # Check if all monthly averages are 999\n",
    "    if (df_posto[['Media_Jan', 'Media_Fev', 'Media_Mar', 'Media_Apr', 'Media_May', 'Media_Jun', 'Media_Jul', 'Media_Aug', 'Media_Sep', 'Media_Oct', 'Media_Nov', 'Media_Dec']] == 999).all(axis=None):\n",
    "        media_anual = 999\n",
    "    else:\n",
    "        soma_total_chuvas = df_posto[df_posto['Total'] != 999].groupby('Anos')['Total'].sum().sum()\n",
    "        media_anual = soma_total_chuvas / intervalo_anos\n",
    "\n",
    "    Anos_completos.loc[Anos_completos['id'] == posto_id, 'Media_Anual'] = media_anual\n"
   ]
  },
  {
   "cell_type": "code",
   "execution_count": 60,
   "id": "91b88347",
   "metadata": {},
   "outputs": [],
   "source": [
    "Anos_completos['Total_meses_intervalo'] = Anos_completos['Intervalo_anos'] * 12\n",
    "\n",
    "if 'Intervalo_meses' in Anos_completos.columns:\n",
    "    Anos_completos.drop(columns=['Intervalo_meses'], inplace=True)\n",
    "\n",
    "Anos_completos['Numero_meses_completos'] = Anos_completos['Total_meses_intervalo'] - Anos_completos['Meses_de_Falha']\n",
    "\n",
    "def calcular_percentual_meses_falha(df):\n",
    "    df['Percentual_meses_falha'] = (df['Meses_de_Falha'] / df['Total_meses_intervalo']) * 100\n",
    "    df['Percentual_meses_falha'] = df['Percentual_meses_falha'].round(2)\n",
    "    return df\n",
    "\n",
    "Anos_completos = calcular_percentual_meses_falha(Anos_completos)"
   ]
  },
  {
   "cell_type": "code",
   "execution_count": 61,
   "id": "62b8ad42",
   "metadata": {},
   "outputs": [],
   "source": [
    "colunas_resumo1 = [\n",
    "    'id','link_csv', 'Postos', 'Municipios', 'Latitude', 'Longitude', 'Ano_inicial', 'Ano_final',\n",
    "    'Primeiro_mes', 'Ultimo_mes', 'Intervalo_dias', 'dias_medidos', 'Total_Falhas',\n",
    "    'Porcentagem_dias_Falhas', 'Total_meses_intervalo', 'Numero_meses_completos',\n",
    "    'Meses_de_Falha', 'Percentual_meses_falha', 'Intervalo_anos', 'Anos_completos_medidos',\n",
    "    'Anos_de_Falha', 'Porcentagem_anos_Falhas', 'Media_Anual', 'Media_Jan', 'Media_Fev',\n",
    "    'Media_Mar', 'Media_Apr', 'Media_May', 'Media_Jun', 'Media_Jul', 'Media_Aug',\n",
    "    'Media_Sep', 'Media_Oct', 'Media_Nov', 'Media_Dec'\n",
    "    , 'Dia1', 'Dia2', 'Dia3', 'Dia4', 'Dia5', 'Dia6', 'Dia7', 'Dia8', 'Dia9', 'Dia10', 'Dia11', 'Dia12', 'Dia13', 'Dia14', 'Dia15', 'Dia16', 'Dia17', 'Dia18', 'Dia19', 'Dia20', 'Dia21', 'Dia22', 'Dia23', 'Dia24', 'Dia25', 'Dia26', 'Dia27', 'Dia28', 'Dia29', 'Dia30', 'Dia31'\n",
    "]\n",
    "\n",
    "database = Anos_completos.copy()\n",
    "\n",
    "database.drop(columns=['Mes_valido'], inplace=True)\n",
    "\n",
    "database.rename(columns={\n",
    "    'id': 'ID',\n",
    "    'Postos': 'Nome_Posto',\n",
    "    'Municipios': 'Nome_Municipio',\n",
    "    'Latitude': 'Coordenada_Y',\n",
    "    'Longitude': 'Coordenada_X',\n",
    "    'Ano_inicial': 'Ano_Inicio',\n",
    "    'Ano_final': 'Ano_Fim',\n",
    "    'Primeiro_mes': 'Mes_Inicio',\n",
    "    'Ultimo_mes': 'Mes_Fim',\n",
    "    'Intervalo_dias': 'Total_dias_intervalo',\n",
    "    'dias_medidos': 'Dias_dados_medidos',\n",
    "    'Total_Falhas': 'Dias_falhos',\n",
    "    'Porcentagem_dias_Falhas': 'Percentual_dias_falhos',\n",
    "    'Total_meses_intervalo': 'Total_meses_intervalo',\n",
    "    'Numero_meses_completos': 'Numero_meses_completos',\n",
    "    'Meses_de_Falha': 'Numero_meses_falha',\n",
    "    'Percentual_meses_falha': 'Percentual_meses_falha',\n",
    "    'Intervalo_anos': 'Total_anos_intervalo',\n",
    "    'Anos_completos_medidos': 'Numero_anos_completos',\n",
    "    'Anos_de_Falha': 'Numero_anos_falha',\n",
    "    'Porcentagem_anos_Falhas': 'Percentual_anos_falha',\n",
    "    'Media_Anual': 'Precipitacao_media_anual',\n",
    "}, inplace=True)\n",
    "\n",
    "# Arredondar as colunas selecionadas para 2 casas decimais\n",
    "colunas_para_arredondar = [col for col in database.columns if col not in ['Coordenada_X', 'Coordenada_Y']]\n",
    "database[colunas_para_arredondar] = database[colunas_para_arredondar].round(2)\n",
    "database['Coordenada_X'] = database['Coordenada_X'].round(8)\n",
    "database['Coordenada_Y'] = database['Coordenada_Y'].round(8)\n",
    "\n",
    "# Geração do DATAFRAME que será inserido no banco de dados\n",
    "database.to_csv('../data/maindatabase.csv', index=False, decimal='.')"
   ]
  },
  {
   "cell_type": "code",
   "execution_count": 65,
   "id": "df4aa576",
   "metadata": {},
   "outputs": [
    {
     "name": "stdout",
     "output_type": "stream",
     "text": [
      "Geração do dataframe usado na tabela no site.\n"
     ]
    }
   ],
   "source": [
    "print (\"Geração do dataframe usado na tabela no site.\") \n",
    "\n",
    "#print(Anos_completos.columns)\n",
    "\n",
    "colunas_resumo = [\n",
    "    'id','link_csv', 'Postos', 'Municipios', 'Latitude', 'Longitude', 'Ano_inicial', 'Ano_final',\n",
    "    'Primeiro_mes', 'Ultimo_mes', 'Intervalo_dias', 'dias_medidos', 'Total_Falhas',\n",
    "    'Porcentagem_dias_Falhas', 'Total_meses_intervalo', 'Numero_meses_completos',\n",
    "    'Meses_de_Falha', 'Percentual_meses_falha', 'Intervalo_anos', 'Anos_completos_medidos',\n",
    "    'Anos_de_Falha', 'Porcentagem_anos_Falhas', 'Media_Anual', 'Media_Jan', 'Media_Fev',\n",
    "    'Media_Mar', 'Media_Apr', 'Media_May', 'Media_Jun', 'Media_Jul', 'Media_Aug',\n",
    "    'Media_Sep', 'Media_Oct', 'Media_Nov', 'Media_Dec'\n",
    "]\n",
    "\n",
    "links_df = pd.read_csv('../data/links.csv', header=None, names=['id', 'link_csv'], encoding='latin1')\n",
    "\n",
    "Anos_completos['id'] = Anos_completos['id'].astype(str)\n",
    "\n",
    "links_df['id'] = links_df['id'].astype(str)\n",
    "\n",
    "Anos_completos = Anos_completos.merge(links_df, on='id', how='left')\n",
    "\n"
   ]
  },
  {
   "cell_type": "code",
   "execution_count": 67,
   "id": "ff095116",
   "metadata": {
    "vscode": {
     "languageId": "sql"
    }
   },
   "outputs": [],
   "source": [
    "df_resumo = Anos_completos[colunas_resumo].copy()\n",
    "\n",
    "df_resumo = df_resumo.groupby('id').first().reset_index()\n",
    "\n",
    "# Renomear as colunas conforme o formato desejado\n",
    "df_resumo.rename(columns={\n",
    "    'id': 'ID',\n",
    "    'Postos': 'Nome_Posto',\n",
    "    'Municipios': 'Nome_Municipio',\n",
    "    'Latitude': 'Coordenada_Y',\n",
    "    'Longitude': 'Coordenada_X',\n",
    "    'Ano_inicial': 'Ano_Inicio',\n",
    "    'Ano_final': 'Ano_Fim',\n",
    "    'Primeiro_mes': 'Mes_Inicio',\n",
    "    'Ultimo_mes': 'Mes_Fim',\n",
    "    'Intervalo_dias': 'Total_dias_intervalo',\n",
    "    'dias_medidos': 'Dias_dados_medidos',\n",
    "    'Total_Falhas': 'Dias_falhos',\n",
    "    'Porcentagem_dias_Falhas': 'Percentual_dias_falhos',\n",
    "    'Total_meses_intervalo': 'Total_meses_intervalo',\n",
    "    'Numero_meses_completos': 'Numero_meses_completos',\n",
    "    'Meses_de_Falha': 'Numero_meses_falha',\n",
    "    'Percentual_meses_falha': 'Percentual_meses_falha',\n",
    "    'Intervalo_anos': 'Total_anos_intervalo',\n",
    "    'Anos_completos_medidos': 'Numero_anos_completos',\n",
    "    'Anos_de_Falha': 'Numero_anos_falha',\n",
    "    'Porcentagem_anos_Falhas': 'Percentual_anos_falha',\n",
    "    'Media_Anual': 'Precipitacao_media_anual',\n",
    "    'Media_Jan': 'Mes_Jan',\n",
    "    'Media_Fev': 'Mes_Fev',\n",
    "    'Media_Mar': 'Mes_Mar',\n",
    "    'Media_Apr': 'Mes_Apr',\n",
    "    'Media_May': 'Mes_May',\n",
    "    'Media_Jun': 'Mes_Jun',\n",
    "    'Media_Jul': 'Mes_Jul',\n",
    "    'Media_Aug': 'Mes_Aug',\n",
    "    'Media_Sep': 'Mes_Sep',\n",
    "    'Media_Oct': 'Mes_Oct',\n",
    "    'Media_Nov': 'Mes_Nov',\n",
    "    'Media_Dec': 'Mes_Dec'\n",
    "}, inplace=True)\n",
    "\n",
    "# Converter a coluna 'ID' para numérica para evitar problemas de ordenação\n",
    "df_resumo['ID'] = pd.to_numeric(df_resumo['ID'], errors='coerce')\n",
    "\n",
    "# Remover linhas com valores NaN na coluna 'ID' (se houver)\n",
    "df_resumo.dropna(subset=['ID'], inplace=True)\n",
    "\n",
    "# Ordenar com base na coluna 'ID'\n",
    "df_resumo.sort_values(by='ID', inplace=True)\n",
    "\n",
    "# Arredondar todas as médias e percentuais para 2 casas decimais\n",
    "colunas_arredondar = [\n",
    "    'Precipitacao_media_anual', 'Mes_Jan', 'Mes_Fev', 'Mes_Mar', 'Mes_Apr', 'Mes_May',\n",
    "    'Mes_Jun', 'Mes_Jul', 'Mes_Aug', 'Mes_Sep', 'Mes_Oct', 'Mes_Nov', 'Mes_Dec',\n",
    "    'Percentual_dias_falhos', 'Percentual_meses_falha', 'Percentual_anos_falha'\n",
    "]\n",
    "df_resumo[colunas_arredondar] = df_resumo[colunas_arredondar].round(2)\n",
    "\n",
    "# Salvar o DataFrame em um arquivo CSV\n",
    "df_resumo.to_csv('../data/resumo_postos_individual.csv', index=False, decimal=',')\n",
    "\n",
    "# Diagnóstico para verificar duplicados ou valores nulos na coluna 'ID'\n",
    "duplicados = df_resumo['ID'].duplicated().sum()\n",
    "valores_nulos = df_resumo['ID'].isnull().sum()\n"
   ]
  },
  {
   "cell_type": "code",
   "execution_count": null,
   "id": "eb8fde6e-3862-46e4-a87e-71ea35f29335",
   "metadata": {
    "scrolled": true,
    "vscode": {
     "languageId": "sql"
    }
   },
   "outputs": [],
   "source": [
    "# Converter todos os valores numéricos para strings\n",
    "df_resumo = df_resumo.map(\n",
    "    lambda x: str(x) if isinstance(x, (int, float)) else x)\n",
    "\n",
    "def remover_acentos(texto):\n",
    "    return ''.join(c for c in unicodedata.normalize('NFD', texto)\n",
    "                   if unicodedata.category(c) != 'Mn')\n",
    "\n",
    "df_resumo = df_resumo.map(lambda x: remover_acentos(x)\n",
    "                                              if isinstance(x, str) else x)\n",
    "\n",
    "# Converter o dataframe para uma lista de dicionários\n",
    "dados_formatados_resumo = df_resumo.to_dict(orient='records')\n",
    "\n",
    "# Ler o arquivo links.csv com encoding 'latin1'\n",
    "links_df = pd.read_csv('../data/links.csv', header=None, names=['link_csv'], encoding='latin1')\n",
    "\n",
    "# Adicionar a coluna link_csv ao dataframe df_resumo\n",
    "df_resumo['link_csv'] = links_df['link_csv'].values\n",
    "\n",
    "colunas = list(df_resumo.columns)  # Obtém a lista de colunas\n",
    "colunas.insert(1, colunas.pop(colunas.index('link_csv')))  # Move 'link_csv' para a segunda posição\n",
    "df_resumo = df_resumo[colunas]  # Reorganiza o DataFrame com a nova ordem de colunas\n",
    "\n"
   ]
  },
  {
   "cell_type": "code",
   "execution_count": null,
   "id": "1db84d90",
   "metadata": {
    "vscode": {
     "languageId": "sql"
    }
   },
   "outputs": [
    {
     "name": "stdout",
     "output_type": "stream",
     "text": [
      "Arquivo JSON gerado com sucesso.\n"
     ]
    }
   ],
   "source": [
    "with open('../data/dados_formatados_resumo.json', 'w', encoding='utf-8') as f:\n",
    "    json.dump(dados_formatados_resumo, f, ensure_ascii=False, indent=4)\n",
    "\n",
    "\n",
    "print(\"Arquivo JSON gerado com sucesso.\")"
   ]
  },
  {
   "cell_type": "code",
   "execution_count": null,
   "id": "9bdfa3eb",
   "metadata": {
    "vscode": {
     "languageId": "sql"
    }
   },
   "outputs": [
    {
     "name": "stdout",
     "output_type": "stream",
     "text": [
      "  municipio  cod_ibge\n",
      "0   Abaiara   2300101\n",
      "1   Acarape   2300150\n",
      "2    Acaraú   2300200\n",
      "3  Acopiara   2300309\n",
      "4    Aiuaba   2300408\n",
      "Index(['municipio', 'cod_ibge'], dtype='object')\n",
      "0          930.39\n",
      "528        773.36\n",
      "1044       810.32\n",
      "1656       735.40\n",
      "2268       759.44\n",
      "           ...   \n",
      "285900    1021.74\n",
      "286428     846.06\n",
      "286920     998.16\n",
      "287532    1119.77\n",
      "288144     877.39\n",
      "Name: precipitacao_media_anual, Length: 827, dtype: float64\n"
     ]
    }
   ],
   "source": [
    "df_ibge = pd.read_csv('../data/municipios.csv', encoding='latin1', sep=';')\n",
    "df = pd.read_csv('../data/maindatabase.csv', encoding='latin1', sep=',')\n",
    "\n",
    "print(df_ibge.head())\n",
    "print(df_ibge.columns)\n",
    "\n",
    "# Criar dicionário para a tabela de municípios\n",
    "municipios = df_ibge[['cod_ibge', 'municipio']].drop_duplicates().reset_index(drop=True)\n",
    "municipios.insert(0, 'id', range(len(municipios)))\n",
    "\n",
    "postos = df[['ID', 'Nome_Posto', 'Dias_dados_medidos', 'Dias_falhos', \n",
    "             'Numero_meses_completos', 'Numero_meses_falha', 'Numero_anos_falha', \n",
    "             'Numero_anos_completos', 'Precipitacao_media_anual', 'Coordenada_Y', 'Coordenada_X']].drop_duplicates()\n",
    "\n",
    "integer_columns = ['ID', 'Dias_dados_medidos', 'Dias_falhos', 'Numero_meses_completos', \n",
    "                   'Numero_meses_falha', 'Numero_anos_falha', 'Numero_anos_completos']\n",
    "postos[integer_columns] = postos[integer_columns].astype(int)\n",
    "\n",
    "postos.rename(columns={'ID': 'id_posto'}, inplace=True)\n",
    "\n",
    "postos['coordenadas'] = postos['Coordenada_Y'].astype(str) + ',' + postos['Coordenada_X'].astype(str)\n",
    "postos.drop(columns=['Coordenada_Y', 'Coordenada_X'], inplace=True)\n",
    "\n",
    "registros = df[['Dia1', 'Total', 'Meses', 'Anos']].rename(columns={\n",
    "    'Dia1': 'dia',\n",
    "    'Total': 'total_dia',\n",
    "    'Meses': 'mes',\n",
    "    'Anos': 'ano'\n",
    "})\n",
    "\n",
    "registros.insert(0, 'id', range(len(registros)))\n",
    "\n",
    "municipios.columns = municipios.columns.str.lower()\n",
    "postos.columns = postos.columns.str.lower()\n",
    "registros.columns = registros.columns.str.lower()\n",
    "\n",
    "# Procurar o registro no DataFrame 'postos' onde a coluna 'precipitacao_media_anual' é igual a 930.39\n",
    "registro = postos['precipitacao_media_anual']\n",
    "\n",
    "# Exibir o registro encontrado\n",
    "# Substituir pontos por vírgulas nas colunas de tipo float\n",
    "postos['precipitacao_media_anual'] = postos['precipitacao_media_anual'].apply(lambda x: str(x).replace('.', ','))\n",
    "\n",
    "# Exibir o registro encontrado\n",
    "print(postos['precipitacao_media_anual'])\n"
   ]
  }
 ],
 "metadata": {
  "kernelspec": {
   "display_name": "Python 3",
   "language": "python",
   "name": "python3"
  },
  "language_info": {
   "codemirror_mode": {
    "name": "ipython",
    "version": 3
   },
   "file_extension": ".py",
   "mimetype": "text/x-python",
   "name": "python",
   "nbconvert_exporter": "python",
   "pygments_lexer": "ipython3",
   "version": "3.12.10"
  }
 },
 "nbformat": 4,
 "nbformat_minor": 5
}
