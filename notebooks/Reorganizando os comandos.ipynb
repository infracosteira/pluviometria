{
 "cells": [
  {
   "cell_type": "code",
   "execution_count": 3,
   "id": "f8bcfcdc-a349-487b-9edf-f830bfde23fa",
   "metadata": {},
   "outputs": [
    {
     "name": "stdout",
     "output_type": "stream",
     "text": [
      "\n",
      "Lendo dados das estações pluviometricas...\n"
     ]
    }
   ],
   "source": [
    "import zipfile as zipfile\n",
    "import pandas as pd\n",
    "import datetime as dt\n",
    "import os\n",
    "#import unicodedata\n",
    "#import json\n",
    "\n",
    "print(\"\\nLendo dados das estações pluviometricas...\")\n",
    "\n",
    "for_concat = []\n",
    "with zipfile.ZipFile('../data/postos.zip', 'r') as t:\n",
    "    for arq in t.namelist():\n",
    "        if arq.endswith('.txt'):\n",
    "            with t.open(arq) as f:\n",
    "                df = pd.read_csv(f, delimiter=';')\n",
    "                for_concat.append(df)\n",
    "\n",
    "# Exclude empty or all-NA entries before concatenation\n",
    "for_concat = [\n",
    "    df for df in for_concat if not df.empty and not df.isna().all().all()\n",
    "]\n",
    "\n",
    "registros_chuvas = pd.concat(for_concat)\n",
    "registros_chuvas.fillna(0, inplace=True)\n",
    "registros_chuvas.reset_index(drop=True, inplace=True)"
   ]
  },
  {
   "cell_type": "code",
   "execution_count": 4,
   "id": "f1d8892f-9aed-45f8-a807-fc5116dbc06f",
   "metadata": {},
   "outputs": [
    {
     "name": "stdout",
     "output_type": "stream",
     "text": [
      "\n",
      "Filtrando anos completos...\n"
     ]
    }
   ],
   "source": [
    "print(\"\\nFiltrando anos completos...\")\n",
    "\n",
    "#pegar apenas os anos completos\n",
    "registros_chuvas['Anos'] = registros_chuvas['Anos'].astype(int)\n",
    "registros_chuvas['Meses'] = registros_chuvas['Meses'].astype(int)\n",
    "ano = dt.datetime.now().year\n",
    "Anos_completos = registros_chuvas\n",
    "Anos_completos = Anos_completos.loc[Anos_completos['Anos'] < ano]"
   ]
  },
  {
   "cell_type": "code",
   "execution_count": 5,
   "id": "6fbfa536-53b4-4d1e-8424-55aca3716ed7",
   "metadata": {},
   "outputs": [
    {
     "name": "stdout",
     "output_type": "stream",
     "text": [
      "\n",
      "Verificando o primeiro e o ultimo ano de registro de cada posto...\n"
     ]
    }
   ],
   "source": [
    "print(\"\\nVerificando o primeiro e o ultimo ano de registro de cada posto...\")\n",
    "\n",
    "#verificar qual o primeiro ano de registro e o ultimo ano de registro de cada posto\n",
    "primeiro_e_ultimo_ano = Anos_completos.groupby(['Municipios', 'Postos'\n",
    "                                                ])['Anos'].agg(['min', 'max'])\n",
    "primeiro_e_ultimo_ano.columns = ['Ano_inicial', 'Ano_final']\n",
    "Anos_completos = Anos_completos.merge(primeiro_e_ultimo_ano,\n",
    "                                      on=['Municipios', 'Postos'])"
   ]
  },
  {
   "cell_type": "code",
   "execution_count": 6,
   "id": "bfe1aeee-ae6e-4150-8abb-52eaffc709ca",
   "metadata": {},
   "outputs": [
    {
     "name": "stdout",
     "output_type": "stream",
     "text": [
      "\n",
      "Verificando o ultimo mes de registro...\n"
     ]
    }
   ],
   "source": [
    "\n",
    "#encontrar qual foi o primeiro mes registrado para cada posto no ano inicial\n",
    "ano_inicial_df = Anos_completos[Anos_completos['Anos'] ==\n",
    "                                Anos_completos['Ano_inicial']]\n",
    "primeiro_mes_ano_inicial = ano_inicial_df.groupby(\n",
    "    ['Municipios', 'Postos'])['Meses'].min().reset_index()\n",
    "primeiro_mes_ano_inicial.rename(columns={'Meses': 'Primeiro_mes'},\n",
    "                                inplace=True)\n",
    "Anos_completos = Anos_completos.merge(primeiro_mes_ano_inicial,\n",
    "                                      on=['Municipios', 'Postos'],\n",
    "                                      how='left')\n",
    "ano_final_df = Anos_completos[Anos_completos['Anos'] ==\n",
    "                              Anos_completos['Ano_final']]\n",
    "\n",
    "print(\"\\nVerificando o ultimo mes de registro...\")\n",
    "\n",
    "ano_final_df = Anos_completos[Anos_completos['Anos'] ==\n",
    "                              Anos_completos['Ano_final']]\n",
    "ultimo_mes_ano_final = ano_final_df.groupby(['Municipios', 'Postos'\n",
    "                                             ])['Meses'].max().reset_index()\n",
    "ultimo_mes_ano_final.rename(columns={'Meses': 'Ultimo_mes'}, inplace=True)\n"
   ]
  },
  {
   "cell_type": "code",
   "execution_count": 7,
   "id": "f15b32e2-2c55-4acb-95d4-22a4372b9083",
   "metadata": {
    "scrolled": true
   },
   "outputs": [
    {
     "name": "stdout",
     "output_type": "stream",
     "text": [
      "\n",
      "Preenchedo meses e anos faltantes com falhas...\n",
      "Meses faltantes preenchidos com falhas.\n"
     ]
    }
   ],
   "source": [
    "print(\"\\nPreenchedo meses e anos faltantes com falhas...\")\n",
    "\n",
    "\n",
    "def criar_mes_falha(ano, mes, posto, municipio, latitude, longitude):\n",
    "    dias_no_mes = {\n",
    "        1: 31,\n",
    "        2: 28,\n",
    "        3: 31,\n",
    "        4: 30,\n",
    "        5: 31,\n",
    "        6: 30,\n",
    "        7: 31,\n",
    "        8: 31,\n",
    "        9: 30,\n",
    "        10: 31,\n",
    "        11: 30,\n",
    "        12: 31\n",
    "    }\n",
    "    data = {\n",
    "        'Municipios': [municipio],\n",
    "        'Postos': [posto],\n",
    "        'Latitude': [latitude],\n",
    "        'Longitude': [longitude],\n",
    "        'Anos': [ano],\n",
    "        'Meses': [mes],\n",
    "        'Total': [999.0],\n",
    "        **{\n",
    "            col: [999.0 if i < dias_no_mes[mes] else 888.0]\n",
    "            for i, col in enumerate(dias_cols, start=1)\n",
    "        },\n",
    "    }\n",
    "    return pd.DataFrame(data)\n",
    "\n",
    "\n",
    "def criar_ano_falha(ano, posto, municipio, latitude, longitude):\n",
    "    falhas = []\n",
    "    for mes in range(1, 13):\n",
    "        falhas.append(\n",
    "            criar_mes_falha(ano, mes, posto, municipio, latitude, longitude))\n",
    "    return pd.concat(falhas, ignore_index=True)\n",
    "\n",
    "\n",
    "anos_unicos = Anos_completos['Anos'].unique()\n",
    "postos_unicos = Anos_completos['Postos'].unique()\n",
    "dias_cols = [f'Dia{i}' for i in range(1, 32)]\n",
    "falhas = []\n",
    "falhas_anos = []\n",
    "\n",
    "for posto in postos_unicos:\n",
    "\n",
    "    df_posto = Anos_completos[Anos_completos['Postos'] == posto]\n",
    "    anos_registrados = df_posto['Anos'].unique()\n",
    "    anos_faltantes = set(range(anos_registrados.min(),\n",
    "                               2024)) - set(anos_registrados)\n",
    "\n",
    "    for ano in anos_unicos:\n",
    "\n",
    "        df_ano_posto = df_posto[df_posto['Anos'] == ano]\n",
    "\n",
    "        if not df_ano_posto.empty:\n",
    "            meses_registrados = df_ano_posto['Meses'].unique()\n",
    "            meses_faltantes = set(range(1, 13)) - set(meses_registrados)\n",
    "\n",
    "            if meses_faltantes:\n",
    "\n",
    "                municipio = df_ano_posto['Municipios'].iloc[0]\n",
    "                latitude = df_ano_posto['Latitude'].iloc[0]\n",
    "                longitude = df_ano_posto['Longitude'].iloc[0]\n",
    "\n",
    "                falhas.extend([\n",
    "                    criar_mes_falha(ano, mes, posto, municipio, latitude,\n",
    "                                    longitude) for mes in meses_faltantes\n",
    "                ])\n",
    "    if anos_faltantes:\n",
    "        municipio = df_posto['Municipios'].iloc[0]\n",
    "        latitude = df_posto['Latitude'].iloc[0]\n",
    "        longitude = df_posto['Longitude'].iloc[0]\n",
    "\n",
    "        for ano_faltante in anos_faltantes:\n",
    "            falhas_anos.append(\n",
    "                criar_ano_falha(ano_faltante, posto, municipio, latitude,\n",
    "                                longitude))\n",
    "\n",
    "if falhas:\n",
    "    df_falhas = pd.concat(falhas, ignore_index=True)\n",
    "    Anos_completos = pd.concat([Anos_completos, df_falhas], ignore_index=True)\n",
    "\n",
    "print(\"Meses faltantes preenchidos com falhas.\")\n",
    "\n",
    "if falhas_anos:\n",
    "    df_falhas_anos = pd.concat(falhas_anos, ignore_index=True)\n",
    "    Anos_completos = pd.concat([Anos_completos, df_falhas_anos],\n",
    "                               ignore_index=True)\n",
    "\n",
    "Anos_completos.sort_values(by=['Postos', 'Anos', 'Meses'], inplace=True)\n",
    "Anos_completos.reset_index(drop=True, inplace=True)"
   ]
  },
  {
   "cell_type": "code",
   "execution_count": 8,
   "id": "01bcc81d-bb22-4da7-8a19-5378f533d205",
   "metadata": {},
   "outputs": [
    {
     "name": "stdout",
     "output_type": "stream",
     "text": [
      "\n",
      "Repreenchendo os novos registros com os meses e anos de primeiro registro\n"
     ]
    }
   ],
   "source": [
    "print(\n",
    "    \"\\nRepreenchendo os novos registros com os meses e anos de primeiro registro\"\n",
    ")\n",
    "\n",
    "primeiro_e_ultimo_ano = Anos_completos.groupby(['Municipios', 'Postos'\n",
    "                                                ])['Anos'].agg(['min', 'max'])\n",
    "primeiro_e_ultimo_ano.columns = ['Ano_inicial', 'Ano_final']\n",
    "Anos_completos = Anos_completos.merge(primeiro_e_ultimo_ano,\n",
    "                                      on=['Municipios', 'Postos'])\n",
    "Anos_completos.drop(columns=['Ano_inicial_x', 'Ano_final_x'], inplace=True)\n",
    "\n",
    "Anos_completos = Anos_completos.merge(primeiro_mes_ano_inicial,\n",
    "                                      on=['Municipios', 'Postos'],\n",
    "                                      how='left')\n",
    "Anos_completos = Anos_completos.merge(ultimo_mes_ano_final,\n",
    "                                      on=['Municipios', 'Postos'],\n",
    "                                      how='left')\n",
    "Anos_completos.drop(columns=['Primeiro_mes_x'], inplace=True)\n",
    "Anos_completos.rename(columns={\n",
    "    'Ano_inicial_y': 'Ano_inicial',\n",
    "    'Ano_final_y': 'Ano_final',\n",
    "    'Primeiro_mes_y': 'Primeiro_mes'\n",
    "},\n",
    "                      inplace=True)"
   ]
  },
  {
   "cell_type": "code",
   "execution_count": 9,
   "id": "8708f895-4d28-4256-9c66-4b142dd22e1a",
   "metadata": {},
   "outputs": [
    {
     "name": "stdout",
     "output_type": "stream",
     "text": [
      "\n",
      "Verificando quantos meses de falha existem parada cada posto\n",
      "\n",
      "Arquivos CSV gerados para cada posto na pasta 'postos tratados'.\n"
     ]
    }
   ],
   "source": [
    "print(\"\\nVerificando quantos meses de falha existem parada cada posto\")\n",
    "\n",
    "df_sem_extras = Anos_completos.drop(\n",
    "    columns=['Primeiro_mes', 'Ultimo_mes', 'Ano_inicial', 'Ano_final'])\n",
    "\n",
    "# Substituir os valores 888.0 por NaN e depois remover essas colunas\n",
    "df_sem_extras.replace(888.0, pd.NA, inplace=True)\n",
    "df_sem_extras.dropna(axis=1, how='all', inplace=True)\n",
    "\n",
    "# Gerar arquivos CSV para cada posto usando o novo DataFrame\n",
    "for posto in postos_unicos:\n",
    "    registros_posto = df_sem_extras[df_sem_extras['Postos'] == posto]\n",
    "    nome_arquivo = os.path.join(\"../data/postos_solo\", f\"{posto}.csv\")\n",
    "    registros_posto.to_csv(nome_arquivo, index=False, decimal=',')\n",
    "\n",
    "print(\"\\nArquivos CSV gerados para cada posto na pasta 'postos tratados'.\")\n",
    "\n",
    "dias_cols = [f'Dia{i}' for i in range(1, 32)]\n",
    "\n",
    "\n",
    "def verificar_meses_falha(df):\n",
    "\n",
    "    df['Mes_falha'] = df[dias_cols].apply(lambda row: any(day == 999.0\n",
    "                                                          for day in row),\n",
    "                                          axis=1)\n",
    "\n",
    "    meses_falha_por_posto = df.groupby('Postos')['Mes_falha'].sum()\n",
    "\n",
    "    return meses_falha_por_posto\n",
    "\n",
    "\n",
    "meses_falha_por_posto = verificar_meses_falha(Anos_completos)\n",
    "meses_falha_por_posto\n",
    "Anos_completos = Anos_completos.merge(\n",
    "    meses_falha_por_posto.rename('Meses_de_Falha'), on='Postos', how='left')\n",
    "Anos_completos = Anos_completos.drop(columns=['Mes_falha'])"
   ]
  },
  {
   "cell_type": "code",
   "execution_count": 10,
   "id": "4788df56-ca3b-4395-abb1-d5d070337a10",
   "metadata": {},
   "outputs": [
    {
     "name": "stdout",
     "output_type": "stream",
     "text": [
      "\n",
      "Calculando intervalo de dias,meses e anos totais de falhas por posto...\n"
     ]
    }
   ],
   "source": [
    "print(\n",
    "    \"\\nCalculando intervalo de dias,meses e anos totais de falhas por posto...\"\n",
    ")\n",
    "\n",
    "from datetime import datetime\n",
    "\n",
    "\n",
    "def calcular_intervalo_dias(row):\n",
    "    data_inicial = datetime(row['Ano_inicial'], 1, 1)\n",
    "    data_final = datetime(row['Ano_final'], 12, 31)\n",
    "\n",
    "    intervalo = (data_final - data_inicial).days + 1\n",
    "    \n",
    "    for year in range(row['Ano_inicial'], row['Ano_final'] + 1):\n",
    "        if (year % 4 == 0 and year % 100 != 0) or (year % 400 == 0):\n",
    "            if year == row['Ano_inicial'] and data_inicial.month > 2:\n",
    "                continue\n",
    "            if year == row['Ano_final'] and data_final.month < 2:\n",
    "                continue\n",
    "            intervalo += 1\n",
    "\n",
    "    return intervalo\n",
    "\n",
    "\n",
    "def contar_dias_falha(row):\n",
    "    return sum(row[dia] == 999.0 for dia in dias_cols)\n",
    "\n",
    "\n",
    "Anos_completos['Intervalo_dias'] = Anos_completos.apply(\n",
    "    calcular_intervalo_dias, axis=1)\n",
    "Anos_completos['Dias_de_Falha'] = Anos_completos.apply(contar_dias_falha,\n",
    "                                                       axis=1)\n",
    "total_falhas_por_posto = Anos_completos.groupby(\n",
    "    'Postos')['Dias_de_Falha'].sum().reset_index()\n",
    "total_falhas_por_posto.rename(columns={'Dias_de_Falha': 'Total_Falhas'},\n",
    "                              inplace=True)\n",
    "Anos_completos = Anos_completos.merge(total_falhas_por_posto,\n",
    "                                      on='Postos',\n",
    "                                      how='left')\n",
    "Anos_completos['Intervalo_anos'] = (\n",
    "    1 + Anos_completos['Ano_final']) - Anos_completos['Ano_inicial']\n",
    "Anos_completos['Intervalo_meses'] = Anos_completos['Intervalo_anos'] * 12\n",
    "\n",
    "Anos_completos.drop(columns=['Dias_de_Falha'], inplace=True)\n",
    "\n",
    "Anos_completos['dias_medidos'] = Anos_completos[\n",
    "    'Intervalo_dias'] - Anos_completos['Total_Falhas']"
   ]
  },
  {
   "cell_type": "code",
   "execution_count": 11,
   "id": "2c7adeea-d814-4ba8-bb46-df3473c364c1",
   "metadata": {
    "scrolled": true
   },
   "outputs": [
    {
     "name": "stdout",
     "output_type": "stream",
     "text": [
      "\n",
      "Calculando a porcentagem de dias de falhas por posto...\n"
     ]
    }
   ],
   "source": [
    "print(\"\\nCalculando a porcentagem de dias de falhas por posto...\")\n",
    "\n",
    "Anos_completos['Porcentagem_dias_Falhas'] = (\n",
    "    Anos_completos['Total_Falhas'] / Anos_completos['Intervalo_dias']) * 100\n",
    "Anos_completos['Porcentagem_dias_Falhas'] = Anos_completos[\n",
    "    'Porcentagem_dias_Falhas'].round(2)"
   ]
  },
  {
   "cell_type": "code",
   "execution_count": 12,
   "id": "a854f833-4ddf-42f1-80bb-10e533202f99",
   "metadata": {},
   "outputs": [
    {
     "name": "stdout",
     "output_type": "stream",
     "text": [
      "\n",
      "Verificando anos de falha por posto...\n"
     ]
    }
   ],
   "source": [
    "print(\"\\nVerificando anos de falha por posto...\")\n",
    "\n",
    "#Verificar quantos anos com falha tiveram no intervalo por posto\n",
    "\n",
    "\n",
    "def contar_anos_falha(df):\n",
    "\n",
    "    df['Ano_com_falha'] = df[dias_cols].apply(lambda row: any(day == 999.0\n",
    "                                                              for day in row),\n",
    "                                              axis=1)\n",
    "\n",
    "    anos_falha = df.groupby(['Postos',\n",
    "                             'Anos'])['Ano_com_falha'].any().reset_index()\n",
    "\n",
    "    anos_falha_por_posto = anos_falha.groupby(\n",
    "        'Postos')['Ano_com_falha'].sum().reset_index()\n",
    "    anos_falha_por_posto.rename(columns={'Ano_com_falha': 'Anos_de_Falha'},\n",
    "                                inplace=True)\n",
    "\n",
    "    return anos_falha_por_posto\n",
    "\n",
    "\n",
    "anos_falha_por_posto = contar_anos_falha(Anos_completos)\n",
    "Anos_completos = Anos_completos.merge(anos_falha_por_posto,\n",
    "                                      on='Postos',\n",
    "                                      how='left')\n",
    "Anos_completos.drop(columns=['Ano_com_falha'], inplace=True)"
   ]
  },
  {
   "cell_type": "code",
   "execution_count": 13,
   "id": "ec99a7f2-4669-45eb-993f-44f5ca1c6504",
   "metadata": {
    "scrolled": true
   },
   "outputs": [
    {
     "name": "stdout",
     "output_type": "stream",
     "text": [
      "\n",
      "Calculando anos completos medidos por posto...\n"
     ]
    }
   ],
   "source": [
    "print(\"\\nCalculando anos completos medidos por posto...\")\n",
    "\n",
    "# Agrupar por Município, Posto, Latitude e Longitude para garantir que os dados são do mesmo posto no mesmo município\n",
    "Anos_completos['Anos_completos_medidos'] = Anos_completos.groupby([\n",
    "    'Municipios', 'Postos', 'Latitude', 'Longitude'\n",
    "])['Intervalo_anos'].transform('first') - Anos_completos.groupby([\n",
    "    'Municipios', 'Postos', 'Latitude', 'Longitude'\n",
    "])['Anos_de_Falha'].transform('first')\n",
    "\n",
    "Anos_completos['Porcentagem_anos_Falhas'] = (\n",
    "    Anos_completos['Anos_de_Falha'] / Anos_completos['Intervalo_anos']) * 100\n",
    "Anos_completos['Porcentagem_anos_Falhas'] = Anos_completos[\n",
    "    'Porcentagem_anos_Falhas'].round(2)"
   ]
  },
  {
   "cell_type": "code",
   "execution_count": 14,
   "id": "e40111eb-d6a6-45b9-8a26-3b88c5d1a392",
   "metadata": {},
   "outputs": [
    {
     "name": "stdout",
     "output_type": "stream",
     "text": [
      "\n",
      "Calculando a média mensal de chuvas por posto...\n"
     ]
    }
   ],
   "source": [
    "print(\"\\nCalculando a média mensal de chuvas por posto...\")\n",
    "\n",
    "def dados_validos(df):\n",
    "    # Verificar se todos os dias do mês não são 999.0\n",
    "    df['Mes_valido'] = df[dias_cols].apply(lambda row: all(day != 999.0 for day in row), axis=1)\n",
    "    \n",
    "    # Filtrar apenas os meses válidos\n",
    "    df_validos = df[df['Mes_valido']].copy()\n",
    "    \n",
    "    # Remover a coluna auxiliar 'Mes_valido'\n",
    "    df_validos.drop(columns=['Mes_valido'], inplace=True)\n",
    "    \n",
    "    return df_validos\n",
    "\n",
    "df_dados_validos = dados_validos(Anos_completos)\n",
    "\n",
    "# Calcular a média mensal de chuvas por posto\n",
    "postos_unicos = df_dados_validos['Postos'].unique()\n",
    "\n",
    "medias_mensais = []\n",
    "\n",
    "for posto in postos_unicos:\n",
    "    df_posto = df_dados_validos[df_dados_validos['Postos'] == posto]\n",
    "    \n",
    "    # Inicializar variáveis para somar os totais e contadores para cada mês\n",
    "    jan_total = fev_total = mar_total = apr_total = may_total = jun_total = 0\n",
    "    jul_total = aug_total = sep_total = oct_total = nov_total = dec_total = 0\n",
    "    \n",
    "    jan_count = fev_count = mar_count = apr_count = may_count = jun_count = 0\n",
    "    jul_count = aug_count = sep_count = oct_count = nov_count = dec_count = 0\n",
    "    \n",
    "    for _, row in df_posto.iterrows():\n",
    "        if row['Meses'] == 1:\n",
    "            jan_total += row['Total']\n",
    "            jan_count += 1\n",
    "        elif row['Meses'] == 2:\n",
    "            fev_total += row['Total']\n",
    "            fev_count += 1\n",
    "        elif row['Meses'] == 3:\n",
    "            mar_total += row['Total']\n",
    "            mar_count += 1\n",
    "        elif row['Meses'] == 4:\n",
    "            apr_total += row['Total']\n",
    "            apr_count += 1\n",
    "        elif row['Meses'] == 5:\n",
    "            may_total += row['Total']\n",
    "            may_count += 1\n",
    "        elif row['Meses'] == 6:\n",
    "            jun_total += row['Total']\n",
    "            jun_count += 1\n",
    "        elif row['Meses'] == 7:\n",
    "            jul_total += row['Total']\n",
    "            jul_count += 1\n",
    "        elif row['Meses'] == 8:\n",
    "            aug_total += row['Total']\n",
    "            aug_count += 1\n",
    "        elif row['Meses'] == 9:\n",
    "            sep_total += row['Total']\n",
    "            sep_count += 1\n",
    "        elif row['Meses'] == 10:\n",
    "            oct_total += row['Total']\n",
    "            oct_count += 1\n",
    "        elif row['Meses'] == 11:\n",
    "            nov_total += row['Total']\n",
    "            nov_count += 1\n",
    "        elif row['Meses'] == 12:\n",
    "            dec_total += row['Total']\n",
    "            dec_count += 1\n",
    "    \n",
    "    medias_mensais.append({\n",
    "        'Posto': posto,\n",
    "        'Media_Jan': jan_total / jan_count if jan_count else 999,\n",
    "        'Media_Fev': fev_total / fev_count if fev_count else 999,\n",
    "        'Media_Mar': mar_total / mar_count if mar_count else 999,\n",
    "        'Media_Apr': apr_total / apr_count if apr_count else 999,\n",
    "        'Media_May': may_total / may_count if may_count else 999,\n",
    "        'Media_Jun': jun_total / jun_count if jun_count else 999,\n",
    "        'Media_Jul': jul_total / jul_count if jul_count else 999,\n",
    "        'Media_Aug': aug_total / aug_count if aug_count else 999,\n",
    "        'Media_Sep': sep_total / sep_count if sep_count else 999,\n",
    "        'Media_Oct': oct_total / oct_count if oct_count else 999,\n",
    "        'Media_Nov': nov_total / nov_count if nov_count else 999,\n",
    "        'Media_Dec': dec_total / dec_count if dec_count else 999\n",
    "    })\n",
    "\n",
    "df_medias_mensais = pd.DataFrame(medias_mensais)\n",
    "Anos_completos = Anos_completos.merge(df_medias_mensais, left_on='Postos', right_on='Posto', how='left')\n",
    "Anos_completos.drop(columns=['Posto'], inplace=True)\n",
    "# Preencher médias vazias com 999\n"
   ]
  },
  {
   "cell_type": "code",
   "execution_count": 15,
   "id": "8038910f",
   "metadata": {},
   "outputs": [],
   "source": [
    "medias_cols = ['Media_Jan', 'Media_Fev', 'Media_Mar', 'Media_Apr', 'Media_May', 'Media_Jun', 'Media_Jul', 'Media_Aug', 'Media_Sep', 'Media_Oct', 'Media_Nov', 'Media_Dec']\n",
    "Anos_completos[medias_cols] = Anos_completos[medias_cols].fillna(999)"
   ]
  },
  {
   "cell_type": "code",
   "execution_count": 16,
   "id": "fb20ace9-05b0-4ce6-b53c-e460548588ed",
   "metadata": {
    "scrolled": true
   },
   "outputs": [
    {
     "name": "stdout",
     "output_type": "stream",
     "text": [
      "\n",
      "Calculando a média anual de chuvas por posto...\n"
     ]
    }
   ],
   "source": [
    "print(\"\\nCalculando a média anual de chuvas por posto...\")\n",
    "\n",
    "postos_unicos = Anos_completos['Postos'].unique()\n",
    "\n",
    "Anos_completos['Media_Anual'] = 0.0\n",
    "\n",
    "for posto in postos_unicos:\n",
    "    df_posto = Anos_completos[Anos_completos['Postos'] == posto]\n",
    "    intervalo_anos = df_posto['Intervalo_anos'].iloc[0]\n",
    "\n",
    "    # Check if all monthly averages are 999\n",
    "    if (df_posto[['Media_Jan', 'Media_Fev', 'Media_Mar', 'Media_Apr', 'Media_May', 'Media_Jun', 'Media_Jul', 'Media_Aug', 'Media_Sep', 'Media_Oct', 'Media_Nov', 'Media_Dec']] == 999).all(axis=None):\n",
    "        media_anual = 999\n",
    "    else:\n",
    "        soma_total_chuvas = df_posto[df_posto['Total'] != 999].groupby('Anos')['Total'].sum().sum()\n",
    "        media_anual = soma_total_chuvas / intervalo_anos\n",
    "\n",
    "    Anos_completos.loc[Anos_completos['Postos'] == posto, 'Media_Anual'] = media_anual\n",
    "\n"
   ]
  },
  {
   "cell_type": "code",
   "execution_count": 17,
   "id": "91b88347",
   "metadata": {},
   "outputs": [],
   "source": [
    "Anos_completos['Total_meses_intervalo'] = Anos_completos['Intervalo_anos'] * 12\n",
    "\n",
    "if 'Intervalo_meses' in Anos_completos.columns:\n",
    "    Anos_completos.drop(columns=['Intervalo_meses'], inplace=True)\n",
    "\n",
    "Anos_completos['Numero_meses_completos'] = Anos_completos['Total_meses_intervalo'] - Anos_completos['Meses_de_Falha']\n",
    "\n",
    "def calcular_percentual_meses_falha(df):\n",
    "    df['Percentual_meses_falha'] = (df['Meses_de_Falha'] / df['Total_meses_intervalo']) * 100\n",
    "    df['Percentual_meses_falha'] = df['Percentual_meses_falha'].round(2)\n",
    "    return df\n",
    "\n",
    "Anos_completos = calcular_percentual_meses_falha(Anos_completos)"
   ]
  },
  {
   "cell_type": "code",
   "execution_count": 26,
   "id": "ff095116",
   "metadata": {
    "vscode": {
     "languageId": "sql"
    }
   },
   "outputs": [],
   "source": [
    "# Selecionar as colunas necessárias e renomeá-las conforme o formato desejado\n",
    "colunas_resumo = [\n",
    "    'Postos', 'Municipios', 'Latitude', 'Longitude', 'Ano_inicial', 'Ano_final',\n",
    "    'Primeiro_mes', 'Ultimo_mes', 'Intervalo_dias', 'dias_medidos', 'Total_Falhas',\n",
    "    'Porcentagem_dias_Falhas', 'Total_meses_intervalo', 'Numero_meses_completos',\n",
    "    'Meses_de_Falha', 'Percentual_meses_falha', 'Intervalo_anos', 'Anos_completos_medidos',\n",
    "    'Anos_de_Falha', 'Porcentagem_anos_Falhas', 'Media_Anual', 'Media_Jan', 'Media_Fev',\n",
    "    'Media_Mar', 'Media_Apr', 'Media_May', 'Media_Jun', 'Media_Jul', 'Media_Aug',\n",
    "    'Media_Sep', 'Media_Oct', 'Media_Nov', 'Media_Dec'\n",
    "]\n",
    "\n",
    "df_resumo = Anos_completos[colunas_resumo].drop_duplicates(subset=['Postos'])\n",
    "df_resumo.insert(0, 'Chave_ID', df_resumo.index + 1)\n",
    "\n",
    "# Renomear as colunas conforme o formato desejado\n",
    "df_resumo.rename(columns={\n",
    "    'Postos': 'Nome_Posto',\n",
    "    'Municipios': 'Nome_Municipio',\n",
    "    'Latitude': 'Coordenada_Y',\n",
    "    'Longitude': 'Coordenada_X',\n",
    "    'Ano_inicial': 'Ano_Inicio',\n",
    "    'Ano_final': 'Ano_Fim',\n",
    "    'Primeiro_mes': 'Mes_Inicio',\n",
    "    'Ultimo_mes': 'Mes_Fim',\n",
    "    'Intervalo_dias': 'Total_dias_intervalo',\n",
    "    'dias_medidos': 'Dias_dados_medidos',\n",
    "    'Total_Falhas': 'Dias_falhos',\n",
    "    'Porcentagem_dias_Falhas': 'Percentual_dias_falhos',\n",
    "    'Total_meses_intervalo': 'Total_meses_intervalo',\n",
    "    'Numero_meses_completos': 'Numero_meses_completos',\n",
    "    'Meses_de_Falha': 'Numero_meses_falha',\n",
    "    'Percentual_meses_falha': 'Percentual_meses_falha',\n",
    "    'Intervalo_anos': 'Total_anos_intervalo',\n",
    "    'Anos_completos_medidos': 'Numero_anos_completos',\n",
    "    'Anos_de_Falha': 'Numero_anos_falha',\n",
    "    'Porcentagem_anos_Falhas': 'Percentual_anos_falha',\n",
    "    'Media_Anual': 'Precipitacao_media_anual',\n",
    "    'Media_Jan': 'Mes_Jan',\n",
    "    'Media_Fev': 'Mes_Fev',\n",
    "    'Media_Mar': 'Mes_Mar',\n",
    "    'Media_Apr': 'Mes_Apr',\n",
    "    'Media_May': 'Mes_May',\n",
    "    'Media_Jun': 'Mes_Jun',\n",
    "    'Media_Jul': 'Mes_Jul',\n",
    "    'Media_Aug': 'Mes_Aug',\n",
    "    'Media_Sep': 'Mes_Sep',\n",
    "    'Media_Oct': 'Mes_Oct',\n",
    "    'Media_Nov': 'Mes_Nov',\n",
    "    'Media_Dec': 'Mes_Dec'\n",
    "}, inplace=True)\n",
    "\n",
    "# Arredondar todas as médias e percentuais para 2 casas decimais\n",
    "colunas_arredondar = [\n",
    "    'Precipitacao_media_anual', 'Mes_Jan', 'Mes_Fev', 'Mes_Mar', 'Mes_Apr', 'Mes_May',\n",
    "    'Mes_Jun', 'Mes_Jul', 'Mes_Aug', 'Mes_Sep', 'Mes_Oct', 'Mes_Nov', 'Mes_Dec',\n",
    "    'Percentual_dias_falhos', 'Percentual_meses_falha', 'Percentual_anos_falha'\n",
    "]\n",
    "df_resumo[colunas_arredondar] = df_resumo[colunas_arredondar].round(2)\n",
    "\n",
    "\n",
    "# Salvar o dataframe em um arquivo CSV\n",
    "df_resumo.to_csv('../data/resumo_postos_individual.csv', index=False, decimal=',')"
   ]
  },
  {
   "cell_type": "code",
   "execution_count": 28,
   "id": "eb8fde6e-3862-46e4-a87e-71ea35f29335",
   "metadata": {
    "scrolled": true,
    "vscode": {
     "languageId": "sql"
    }
   },
   "outputs": [
    {
     "name": "stdout",
     "output_type": "stream",
     "text": [
      "Arquivo JSON gerado com sucesso.\n"
     ]
    }
   ],
   "source": [
    "# Converter todos os valores numéricos para strings\n",
    "df_resumo = df_resumo.map(\n",
    "    lambda x: str(x) if isinstance(x, (int, float)) else x)\n",
    "\n",
    "def remover_acentos(texto):\n",
    "    return ''.join(c for c in unicodedata.normalize('NFD', texto)\n",
    "                   if unicodedata.category(c) != 'Mn')\n",
    "\n",
    "df_resumo = df_resumo.map(lambda x: remover_acentos(x)\n",
    "                                              if isinstance(x, str) else x)\n",
    "\n",
    "# Converter o dataframe para uma lista de dicionários\n",
    "dados_formatados_resumo = df_resumo.to_dict(orient='records')\n",
    "\n",
    "# Salvar a lista de dicionários em um arquivo JSON\n",
    "with open('../data/dados_formatados_resumo.json', 'w') as f:\n",
    "    json.dump(dados_formatados_resumo, f, ensure_ascii=False, indent=4)\n",
    "\n",
    "print(\"Arquivo JSON gerado com sucesso.\")"
   ]
  }
 ],
 "metadata": {
  "kernelspec": {
   "display_name": "Python 3",
   "language": "python",
   "name": "python3"
  },
  "language_info": {
   "codemirror_mode": {
    "name": "ipython",
    "version": 3
   },
   "file_extension": ".py",
   "mimetype": "text/x-python",
   "name": "python",
   "nbconvert_exporter": "python",
   "pygments_lexer": "ipython3",
   "version": "3.12.7"
  }
 },
 "nbformat": 4,
 "nbformat_minor": 5
}
