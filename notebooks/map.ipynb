{
 "cells": [
  {
   "cell_type": "code",
   "execution_count": 7,
   "id": "97f92b94",
   "metadata": {},
   "outputs": [
    {
     "name": "stdout",
     "output_type": "stream",
     "text": [
      "\n",
      "Lendo dados das estações pluviometricas...\n"
     ]
    }
   ],
   "source": [
    "import zipfile as zipfile\n",
    "import pandas as pd\n",
    "import datetime as dt\n",
    "import folium\n",
    "\n",
    "m = folium.Map([-5.1998, -39.2896], zoom_start=7)\n",
    "\n",
    "print(\"\\nLendo dados das estações pluviometricas...\")\n",
    "\n",
    "for_concat = []\n",
    "with zipfile.ZipFile('../data/postos.zip', 'r') as t:\n",
    "    for arq in t.namelist():\n",
    "        if arq.endswith('.txt'):\n",
    "            with t.open(arq) as f:\n",
    "                df = pd.read_csv(f, delimiter=';')\n",
    "                # Extrair o ID do nome do arquivo e adicionar como uma nova coluna\n",
    "                df['id'] = arq.split('.')[0]\n",
    "                for_concat.append(df)\n",
    "\n",
    "# Exclude empty or all-NA entries before concatenation\n",
    "for_concat = [\n",
    "    df for df in for_concat if not df.empty and not df.isna().all().all()\n",
    "]\n",
    "\n",
    "registros_chuvas = pd.concat(for_concat)\n",
    "registros_chuvas.fillna(0, inplace=True)\n",
    "registros_chuvas.reset_index(drop=True, inplace=True)\n",
    "\n",
    "# Reordenar as colunas para que 'id' seja a primeira\n",
    "cols = ['id'] + [col for col in registros_chuvas.columns if col != 'id']\n",
    "registros_chuvas = registros_chuvas[cols]"
   ]
  },
  {
   "cell_type": "code",
   "execution_count": 8,
   "id": "299f8fdb",
   "metadata": {},
   "outputs": [
    {
     "name": "stdout",
     "output_type": "stream",
     "text": [
      "\n",
      "Filtrando anos completos...\n"
     ]
    }
   ],
   "source": [
    "print(\"\\nFiltrando anos completos...\")\n",
    "\n",
    "#pegar apenas os anos completos\n",
    "registros_chuvas['Anos'] = registros_chuvas['Anos'].astype(int)\n",
    "registros_chuvas['Meses'] = registros_chuvas['Meses'].astype(int)\n",
    "ano = dt.datetime.now().year\n",
    "Anos_completos = registros_chuvas\n",
    "Anos_completos = Anos_completos.loc[Anos_completos['Anos'] < ano]\n",
    "\n",
    "Anos_completos = Anos_completos = Anos_completos.groupby('id').first().reset_index()\n",
    "Anos_completos"
   ]
  },
  {
   "cell_type": "code",
   "execution_count": 12,
   "id": "146a89df",
   "metadata": {},
   "outputs": [],
   "source": [
    "for idx, row in Anos_completos.iterrows():\n",
    "    folium.Marker(\n",
    "        location=[row['Latitude'], row['Longitude']],\n",
    "        popup=row['Postos'],\n",
    "        icon=folium.Icon(icon=\"cloud\"),\n",
    "    ).add_to(m)"
   ]
  },
  {
   "cell_type": "code",
   "execution_count": null,
   "id": "84b8ddf2",
   "metadata": {},
   "outputs": [
    {
     "ename": "FileNotFoundError",
     "evalue": "[Errno 2] No such file or directory: './data/mapa.html'",
     "output_type": "error",
     "traceback": [
      "\u001b[1;31m---------------------------------------------------------------------------\u001b[0m",
      "\u001b[1;31mFileNotFoundError\u001b[0m                         Traceback (most recent call last)",
      "Cell \u001b[1;32mIn[16], line 1\u001b[0m\n\u001b[1;32m----> 1\u001b[0m \u001b[43mm\u001b[49m\u001b[38;5;241;43m.\u001b[39;49m\u001b[43msave\u001b[49m\u001b[43m(\u001b[49m\u001b[38;5;124;43m'\u001b[39;49m\u001b[38;5;124;43m./data/mapa.html\u001b[39;49m\u001b[38;5;124;43m'\u001b[39;49m\u001b[43m)\u001b[49m\n",
      "File \u001b[1;32mc:\\Users\\yuri\\AppData\\Local\\Programs\\Python\\Python312\\Lib\\site-packages\\branca\\element.py:223\u001b[0m, in \u001b[0;36mElement.save\u001b[1;34m(self, outfile, close_file, **kwargs)\u001b[0m\n\u001b[0;32m    221\u001b[0m fid: BinaryIO\n\u001b[0;32m    222\u001b[0m \u001b[38;5;28;01mif\u001b[39;00m \u001b[38;5;28misinstance\u001b[39m(outfile, (\u001b[38;5;28mstr\u001b[39m, \u001b[38;5;28mbytes\u001b[39m, Path)):\n\u001b[1;32m--> 223\u001b[0m     fid \u001b[38;5;241m=\u001b[39m \u001b[38;5;28;43mopen\u001b[39;49m\u001b[43m(\u001b[49m\u001b[43moutfile\u001b[49m\u001b[43m,\u001b[49m\u001b[43m \u001b[49m\u001b[38;5;124;43m\"\u001b[39;49m\u001b[38;5;124;43mwb\u001b[39;49m\u001b[38;5;124;43m\"\u001b[39;49m\u001b[43m)\u001b[49m\n\u001b[0;32m    224\u001b[0m \u001b[38;5;28;01melse\u001b[39;00m:\n\u001b[0;32m    225\u001b[0m     fid \u001b[38;5;241m=\u001b[39m outfile\n",
      "\u001b[1;31mFileNotFoundError\u001b[0m: [Errno 2] No such file or directory: './data/mapa.html'"
     ]
    }
   ],
   "source": [
    "m.save('../data/mapa.html')"
   ]
  }
 ],
 "metadata": {
  "kernelspec": {
   "display_name": "Python 3",
   "language": "python",
   "name": "python3"
  },
  "language_info": {
   "codemirror_mode": {
    "name": "ipython",
    "version": 3
   },
   "file_extension": ".py",
   "mimetype": "text/x-python",
   "name": "python",
   "nbconvert_exporter": "python",
   "pygments_lexer": "ipython3",
   "version": "3.12.8"
  }
 },
 "nbformat": 4,
 "nbformat_minor": 5
}
